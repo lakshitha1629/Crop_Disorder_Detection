{
 "cells": [
  {
   "cell_type": "code",
   "execution_count": 11,
   "id": "a0eb7e80",
   "metadata": {},
   "outputs": [],
   "source": [
    "import pickle\n",
    "import pandas as pd\n",
    "import json"
   ]
  },
  {
   "cell_type": "code",
   "execution_count": 12,
   "id": "ffa86055",
   "metadata": {},
   "outputs": [],
   "source": [
    "def predict_mpg(config):\n",
    "    ##loading the model from the saved file\n",
    "    pkl_filename = \"model.pkl\"\n",
    "    with open(pkl_filename, 'rb') as f_in:\n",
    "        model = pickle.load(f_in)\n",
    "\n",
    "    if type(config) == dict:\n",
    "        df = pd.DataFrame(config)\n",
    "    else:\n",
    "        df = config\n",
    "    \n",
    "    y_pred = model.predict(df)\n",
    "    return y_pred"
   ]
  },
  {
   "cell_type": "code",
   "execution_count": 13,
   "id": "377a780b",
   "metadata": {},
   "outputs": [
    {
     "data": {
      "text/plain": [
       "array(['PowderyMildew'], dtype=object)"
      ]
     },
     "execution_count": 13,
     "metadata": {},
     "output_type": "execute_result"
    }
   ],
   "source": [
    "config = {\n",
    " 'Q1': [1], 'Q2': [0], 'Q3': [0], 'Q4': [0], 'Q5': [0], 'Q6': [0], 'Q7': [0], 'Q8': [0], 'Q9': [0], 'Q10': [0], 'Q11': [0], 'Q12': [0], 'Q13': [0], 'Q14': [0], 'Q15': [0], 'Q16': [0], 'Q17': [0], 'Q18': [0], 'Q19': [0], 'Q20': [0]\n",
    "}\n",
    "predict_mpg(config)"
   ]
  },
  {
   "cell_type": "code",
   "execution_count": null,
   "id": "b504f1b2",
   "metadata": {},
   "outputs": [],
   "source": [
    "{\n",
    "    \"Q1\":[1],\n",
    "    \"Q2\":[0],\n",
    "    \"Q3\":[0],\n",
    "    \"Q4\":[0],\n",
    "    \"Q5\":[0],\n",
    "    \"Q6\":[0],\n",
    "    \"Q7\":[0],\n",
    "    \"Q8\":[0],\n",
    "    \"Q9\":[0],\n",
    "    \"Q10\":[0],\n",
    "    \"Q11\":[0],\n",
    "    \"Q12\":[0],\n",
    "    \"Q13\":[0],\n",
    "    \"Q14\":[0],\n",
    "    \"Q15\":[0],\n",
    "    \"Q16\":[0],\n",
    "    \"Q17\":[0],\n",
    "    \"Q18\":[0],\n",
    "    \"Q19\":[0],\n",
    "    \"Q20\":[0]\n",
    "}"
   ]
  }
 ],
 "metadata": {
  "kernelspec": {
   "display_name": "Python 3 (ipykernel)",
   "language": "python",
   "name": "python3"
  },
  "language_info": {
   "codemirror_mode": {
    "name": "ipython",
    "version": 3
   },
   "file_extension": ".py",
   "mimetype": "text/x-python",
   "name": "python",
   "nbconvert_exporter": "python",
   "pygments_lexer": "ipython3",
   "version": "3.8.12"
  }
 },
 "nbformat": 4,
 "nbformat_minor": 5
}
