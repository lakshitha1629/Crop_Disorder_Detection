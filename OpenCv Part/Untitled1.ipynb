{
 "cells": [
  {
   "cell_type": "code",
   "execution_count": 1,
   "id": "05196269",
   "metadata": {},
   "outputs": [],
   "source": [
    "from tkinter import filedialog\n",
    "import cv2\n",
    "import sys\n",
    "import tkinter"
   ]
  },
  {
   "cell_type": "code",
   "execution_count": null,
   "id": "2387d716",
   "metadata": {},
   "outputs": [
    {
     "name": "stdout",
     "output_type": "stream",
     "text": [
      "15.76\n",
      "97\n"
     ]
    }
   ],
   "source": [
    "def ProcessImage(filename,ProcessingFactor):\n",
    "    OriginalImage = cv2.imread(filename)\n",
    "    cv2.imshow(\"Original Image\", OriginalImage)\n",
    "    b = OriginalImage[:, :, 0]\n",
    "    g = OriginalImage[:, :, 1]\n",
    "    r = OriginalImage[:, :, 2]\n",
    "    cv2.imshow(\"Red Channel\", r)\n",
    "    cv2.imshow(\"Green Channel\", g)\n",
    "    cv2.imshow(\"Blue Channel\", b)\n",
    "    Disease = r - g\n",
    "    global Alpha\n",
    "    Alpha = b\n",
    "    GetAlpha(OriginalImage)\n",
    "    cv2.imshow(\"Alpha Channel\", Alpha)\n",
    "    for i in range(0, OriginalImage.shape[0]):\n",
    "        for j in range(0, OriginalImage.shape[1]):\n",
    "            if int(g[i, j]) > ProcessingFactor:\n",
    "                Disease[i, j] = 255\n",
    "    cv2.imshow(\"Disease Image\", Disease)\n",
    "    DiseasePercentage = DisplayDiseasePercentage(Disease,ProcessingFactor)\n",
    "    return DiseasePercentage\n",
    "    \n",
    "def CountWhiteDots(filename):\n",
    "    OriginalImage = cv2.imread(filename)\n",
    "    blue = OriginalImage[:, :, 0]\n",
    "    thresh = cv2.threshold(blue,210,255, cv2.THRESH_BINARY)[1]\n",
    "    cnts = cv2.findContours(thresh, cv2.RETR_EXTERNAL, cv2.CHAIN_APPROX_SIMPLE)\n",
    "    cnts = cnts[0] if len(cnts) == 2 else cnts[1]\n",
    "    min_area = 0\n",
    "    white_dots = []\n",
    "    for c in cnts:\n",
    "        area = cv2.contourArea(c)\n",
    "        if area > min_area:\n",
    "            cv2.drawContours(OriginalImage, [c], -1, (220, 20, 60), 2)\n",
    "            white_dots.append(c)\n",
    "    \n",
    "    cv2.imshow(\"White Dots Image\", OriginalImage)\n",
    "    return len(white_dots)\n",
    "\n",
    "def GetAlpha(OriginalImage):\n",
    "    global Alpha\n",
    "    for i in range(0, OriginalImage.shape[0]):\n",
    "        for j in range(0, OriginalImage.shape[1]):\n",
    "            if OriginalImage[i, j, 0] > 200 and OriginalImage[i, j, 1] > 200 and OriginalImage[i, j, 2] > 200:\n",
    "                Alpha[i, j] = 255\n",
    "            else:\n",
    "                Alpha[i, j] = 0\n",
    "\n",
    "\n",
    "def DisplayDiseasePercentage(Disease,ProcessingFactor):\n",
    "    Count = 0\n",
    "    Res = 0\n",
    "    for i in range(0, Disease.shape[0]):\n",
    "        for j in range(0, Disease.shape[1]):\n",
    "            if Alpha[i, j] == 0:\n",
    "                Res += 1\n",
    "            if Disease[i, j] < ProcessingFactor:\n",
    "                Count += 1\n",
    "    Percent = (Count / Res) * 100\n",
    "    DiseasePercent =  str(round(Percent, 2))\n",
    "    return DiseasePercent\n",
    "\n",
    "\n",
    "Alpha = None\n",
    "DiseasePercent = 150\n",
    "ProcessingFactor = 150\n",
    "filename = \"img/3.PNG\"\n",
    "\n",
    "ProcessImage(filename, ProcessingFactor)\n",
    "print(ProcessImage(filename, ProcessingFactor))\n",
    "\n",
    "CountWhiteDots(filename)\n",
    "print(CountWhiteDots(filename))\n",
    "\n",
    "cv2.waitKey(0)  \n",
    "cv2.destroyAllWindows() \n"
   ]
  },
  {
   "cell_type": "code",
   "execution_count": null,
   "id": "5b25d003",
   "metadata": {},
   "outputs": [],
   "source": []
  },
  {
   "cell_type": "code",
   "execution_count": null,
   "id": "d6fd0ca1",
   "metadata": {},
   "outputs": [],
   "source": []
  }
 ],
 "metadata": {
  "kernelspec": {
   "display_name": "Python 3 (ipykernel)",
   "language": "python",
   "name": "python3"
  },
  "language_info": {
   "codemirror_mode": {
    "name": "ipython",
    "version": 3
   },
   "file_extension": ".py",
   "mimetype": "text/x-python",
   "name": "python",
   "nbconvert_exporter": "python",
   "pygments_lexer": "ipython3",
   "version": "3.8.12"
  }
 },
 "nbformat": 4,
 "nbformat_minor": 5
}
